{
  "nbformat": 4,
  "nbformat_minor": 0,
  "metadata": {
    "colab": {
      "name": "Untitled0.ipynb",
      "version": "0.3.2",
      "provenance": [],
      "include_colab_link": true
    },
    "kernelspec": {
      "name": "python3",
      "display_name": "Python 3"
    }
  },
  "cells": [
    {
      "cell_type": "markdown",
      "metadata": {
        "id": "view-in-github",
        "colab_type": "text"
      },
      "source": [
        "<a href=\"https://colab.research.google.com/github/kyata/introduction_to_ml_with_python/blob/master/intro_to_ml_chapter1.ipynb\" target=\"_parent\"><img src=\"https://colab.research.google.com/assets/colab-badge.svg\" alt=\"Open In Colab\"/></a>"
      ]
    },
    {
      "metadata": {
        "id": "W2s312i9AbF8",
        "colab_type": "text"
      },
      "cell_type": "markdown",
      "source": [
        "Pythonではじめる機械学習\n",
        "==="
      ]
    },
    {
      "metadata": {
        "id": "xD3k0iAj0_SE",
        "colab_type": "text"
      },
      "cell_type": "markdown",
      "source": [
        "# 1. はじめに\n",
        "\n",
        "---\n",
        "## 1.1.1. 機械学習で解決可能な問題\n",
        "\n",
        "### 教師あり学習\n",
        "\n",
        "  - 既知の例を一般化することで意思決定過程を自動化する \n",
        "\n",
        "  - ユーザが入力データと望ましい出力のペア群をアルゴリズムに与える\n",
        "\n",
        "  - アルゴリズムは入力から望ましい出力を生成する方法を発見する。\n",
        "\n",
        "  -  入力と出力のペア群から学習\n",
        "  \n",
        "  - 適用例\n",
        "\n",
        "    - 手書き文字識別\n",
        "\n",
        "    - 医用画像からの腫瘍の判定\n",
        "\n",
        "    - クレジットカードの不正トランザクション検出\n",
        "    \n",
        "---\n",
        "### 教師なし学習\n",
        "\n",
        "  - 適用例\n",
        "    - 多数のブログエントリからのトピック特定\n",
        "\n",
        "    - 顧客を嗜好でグループに分類\n",
        "\n",
        "    - Webサイトへの異常アクセスパターンの検出\n",
        "\n",
        "---\n",
        "\n",
        "- **入力データを計算機が理解できる形にすることが重要**\n",
        "\n",
        "- 個々のエンティティ/行を**サンプル**と呼ぶ\n",
        "\n",
        "- エンティティの持つ特性を表現する列を**特徴量**と呼ぶ.\n",
        "\n",
        "- どんな機械学習アルゴリズムでもデータに情報がなければ予測することはできない.\n",
        "\n",
        "- モデルを構築する前にデータセットがどうなっているかを理解する必要がある.\n",
        "\n",
        "- アルゴリズムにはそれぞれ得意とするデータの種類や問題の設定がある.\n",
        "\n",
        "- 機会学習システムを構築する際には以下のような質問に答えられるようにするべき.\n",
        "\n",
        "\n",
        "  1. 答えようとしている問はなにか?\n",
        "  1. 集めたデータでその問いに答えられるか?\n",
        "\n",
        "  1. 問を機械学習問題に置き換える最も良い方法はなにか?\n",
        "  \n",
        "  1. 解こうとしている問題を表現するのに十分なデータは集めたか?\n",
        "\n",
        "  1. どのような特徴量を抽出したか。その特徴量で正しい予測が可能か?\n",
        "  \n",
        "  1. アプリケーションがうまく行ったかどうかをどう判断すべきか?\n",
        "  \n",
        "  1. 製品の他の部分と機械学習はどのように関係するか?\n",
        "  "
      ]
    },
    {
      "metadata": {
        "id": "1iWfWsXxAQGY",
        "colab_type": "text"
      },
      "cell_type": "markdown",
      "source": [
        "## 1.4 必要なライブラリとツール\n",
        "\n",
        "- Jupyter Notbook\n",
        "  - ブラウザ上でコードを実行するための環境\n",
        "  - コードやテキストや画像を取り込むことが簡単にできる\n",
        "  - コードは[Github](https://github.com/amueller/introduction_to_ml_with_python)からDL可能\n",
        "  \n",
        "- NumPy\n",
        "  - Puthonで科学技術計算をする際のライブラリ\n",
        "  - 多次元配列や線形代数、フーリエ変換、擬似乱数生成などの高レベル数学関数が用意されている.\n",
        "  - scikit-learnではNumPyの配列(ndarray)が基本的なデータ構造となる\n",
        "  - 配列のすべての型の要素は同じ型でなければならない\n",
        " "
      ]
    },
    {
      "metadata": {
        "id": "yXBlTVwtBlgo",
        "colab_type": "code",
        "colab": {},
        "cellView": "code"
      },
      "cell_type": "code",
      "source": [
        "#@title NumPy配列の使い方\n",
        "\n",
        "import numpy as np\n",
        "\n",
        "x = np.array([[1, 2, 3], [4, 5, 6]])\n",
        "print(\"x:\\n{}\".format(x))"
      ],
      "execution_count": 0,
      "outputs": []
    },
    {
      "metadata": {
        "id": "DEi7hW7JCrIh",
        "colab_type": "text"
      },
      "cell_type": "markdown",
      "source": [
        "## 1.4.3. SciPy\n",
        "\n",
        "- SciPyはPythonで科学技術計算を行うための関数を集めたもの\n",
        "\n",
        "- 以下のような機能を持つ\n",
        "  - 高度な線形代数ルーチン\n",
        "  - 数学関数の最適化\n",
        "  - 信号処理\n",
        "  - 特殊な数学関数\n",
        "  - 統計分布\n",
        "  \n",
        "- scikit-learnはアルゴリズム実装時にSciPy関数群を利用している\n",
        "\n",
        "- もっとも重要なSciPyの要素は**scipy.sparse**\n",
        "\n",
        "- **scipy.sparse**は疎行列を表現するデータ構造\n",
        "\n",
        "- scikit-learnで用いいるもう一つのデータ表現()"
      ]
    },
    {
      "metadata": {
        "id": "eNq1hA-OFDNx",
        "colab_type": "code",
        "colab": {}
      },
      "cell_type": "code",
      "source": [
        "#@title SciPyサンプル\n",
        "from scipy import sparse\n",
        "\n",
        "# 対角成分が1でそれ以外が0のに2次元配列を作る\n",
        "eye = np.eye(4)\n",
        "\n",
        "print(\"Numpy array:\\n{}\".format(eye))"
      ],
      "execution_count": 0,
      "outputs": []
    },
    {
      "metadata": {
        "id": "LFBGYnSlGBlu",
        "colab_type": "code",
        "colab": {}
      },
      "cell_type": "code",
      "source": [
        ""
      ],
      "execution_count": 0,
      "outputs": []
    }
  ]
}